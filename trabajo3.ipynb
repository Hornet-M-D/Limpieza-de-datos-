{
 "cells": [
  {
   "cell_type": "code",
   "execution_count": 1,
   "id": "7d091890",
   "metadata": {},
   "outputs": [
    {
     "name": "stdout",
     "output_type": "stream",
     "text": [
      "Requirement already satisfied: pandas in c:\\users\\r5-3500u\\desktop\\ciencia de datos\\.venv\\lib\\site-packages (2.3.3)\n",
      "Requirement already satisfied: numpy>=1.26.0 in c:\\users\\r5-3500u\\desktop\\ciencia de datos\\.venv\\lib\\site-packages (from pandas) (2.3.4)\n",
      "Requirement already satisfied: python-dateutil>=2.8.2 in c:\\users\\r5-3500u\\desktop\\ciencia de datos\\.venv\\lib\\site-packages (from pandas) (2.9.0.post0)\n",
      "Requirement already satisfied: pytz>=2020.1 in c:\\users\\r5-3500u\\desktop\\ciencia de datos\\.venv\\lib\\site-packages (from pandas) (2025.2)\n",
      "Requirement already satisfied: tzdata>=2022.7 in c:\\users\\r5-3500u\\desktop\\ciencia de datos\\.venv\\lib\\site-packages (from pandas) (2025.2)\n",
      "Requirement already satisfied: six>=1.5 in c:\\users\\r5-3500u\\desktop\\ciencia de datos\\.venv\\lib\\site-packages (from python-dateutil>=2.8.2->pandas) (1.17.0)\n",
      "Note: you may need to restart the kernel to use updated packages.\n"
     ]
    }
   ],
   "source": [
    "pip install pandas"
   ]
  },
  {
   "cell_type": "code",
   "execution_count": 2,
   "id": "a31a36fd",
   "metadata": {},
   "outputs": [],
   "source": [
    "import pandas as pd"
   ]
  },
  {
   "cell_type": "code",
   "execution_count": 3,
   "id": "99d76cb4",
   "metadata": {},
   "outputs": [],
   "source": [
    "import numpy as np"
   ]
  },
  {
   "cell_type": "code",
   "execution_count": 4,
   "id": "caba952e",
   "metadata": {},
   "outputs": [],
   "source": [
    "import os"
   ]
  },
  {
   "cell_type": "code",
   "execution_count": 5,
   "id": "2213b5d9",
   "metadata": {},
   "outputs": [],
   "source": [
    "directorio_base = \"C:\\\\Users\\\\R5-3500U\\\\Downloads\""
   ]
  },
  {
   "cell_type": "code",
   "execution_count": 6,
   "id": "4a09309f",
   "metadata": {},
   "outputs": [],
   "source": [
    "cosa= \"IOT-temp.csv\""
   ]
  },
  {
   "cell_type": "code",
   "execution_count": 7,
   "id": "cf3c1acb",
   "metadata": {},
   "outputs": [],
   "source": [
    "df = pd.read_csv(os.path.join(directorio_base, cosa))"
   ]
  },
  {
   "cell_type": "code",
   "execution_count": 8,
   "id": "30cf4cac",
   "metadata": {},
   "outputs": [
    {
     "data": {
      "text/html": [
       "<div>\n",
       "<style scoped>\n",
       "    .dataframe tbody tr th:only-of-type {\n",
       "        vertical-align: middle;\n",
       "    }\n",
       "\n",
       "    .dataframe tbody tr th {\n",
       "        vertical-align: top;\n",
       "    }\n",
       "\n",
       "    .dataframe thead th {\n",
       "        text-align: right;\n",
       "    }\n",
       "</style>\n",
       "<table border=\"1\" class=\"dataframe\">\n",
       "  <thead>\n",
       "    <tr style=\"text-align: right;\">\n",
       "      <th></th>\n",
       "      <th>id</th>\n",
       "      <th>room_id/id</th>\n",
       "      <th>noted_date</th>\n",
       "      <th>temp</th>\n",
       "      <th>out/in</th>\n",
       "    </tr>\n",
       "  </thead>\n",
       "  <tbody>\n",
       "    <tr>\n",
       "      <th>0</th>\n",
       "      <td>__export__.temp_log_196134_bd201015</td>\n",
       "      <td>Room Admin</td>\n",
       "      <td>08-12-2018 09:30</td>\n",
       "      <td>29</td>\n",
       "      <td>In</td>\n",
       "    </tr>\n",
       "    <tr>\n",
       "      <th>1</th>\n",
       "      <td>__export__.temp_log_196131_7bca51bc</td>\n",
       "      <td>Room Admin</td>\n",
       "      <td>08-12-2018 09:30</td>\n",
       "      <td>29</td>\n",
       "      <td>In</td>\n",
       "    </tr>\n",
       "    <tr>\n",
       "      <th>2</th>\n",
       "      <td>__export__.temp_log_196127_522915e3</td>\n",
       "      <td>Room Admin</td>\n",
       "      <td>08-12-2018 09:29</td>\n",
       "      <td>41</td>\n",
       "      <td>Out</td>\n",
       "    </tr>\n",
       "    <tr>\n",
       "      <th>3</th>\n",
       "      <td>__export__.temp_log_196128_be0919cf</td>\n",
       "      <td>Room Admin</td>\n",
       "      <td>08-12-2018 09:29</td>\n",
       "      <td>41</td>\n",
       "      <td>Out</td>\n",
       "    </tr>\n",
       "    <tr>\n",
       "      <th>4</th>\n",
       "      <td>__export__.temp_log_196126_d30b72fb</td>\n",
       "      <td>Room Admin</td>\n",
       "      <td>08-12-2018 09:29</td>\n",
       "      <td>31</td>\n",
       "      <td>In</td>\n",
       "    </tr>\n",
       "    <tr>\n",
       "      <th>...</th>\n",
       "      <td>...</td>\n",
       "      <td>...</td>\n",
       "      <td>...</td>\n",
       "      <td>...</td>\n",
       "      <td>...</td>\n",
       "    </tr>\n",
       "    <tr>\n",
       "      <th>97601</th>\n",
       "      <td>__export__.temp_log_91076_7fbd08ca</td>\n",
       "      <td>Room Admin</td>\n",
       "      <td>28-07-2018 07:07</td>\n",
       "      <td>31</td>\n",
       "      <td>In</td>\n",
       "    </tr>\n",
       "    <tr>\n",
       "      <th>97602</th>\n",
       "      <td>__export__.temp_log_147733_62c03f31</td>\n",
       "      <td>Room Admin</td>\n",
       "      <td>28-07-2018 07:07</td>\n",
       "      <td>31</td>\n",
       "      <td>In</td>\n",
       "    </tr>\n",
       "    <tr>\n",
       "      <th>97603</th>\n",
       "      <td>__export__.temp_log_100386_84093a68</td>\n",
       "      <td>Room Admin</td>\n",
       "      <td>28-07-2018 07:06</td>\n",
       "      <td>31</td>\n",
       "      <td>In</td>\n",
       "    </tr>\n",
       "    <tr>\n",
       "      <th>97604</th>\n",
       "      <td>__export__.temp_log_123297_4d8e690b</td>\n",
       "      <td>Room Admin</td>\n",
       "      <td>28-07-2018 07:06</td>\n",
       "      <td>31</td>\n",
       "      <td>In</td>\n",
       "    </tr>\n",
       "    <tr>\n",
       "      <th>97605</th>\n",
       "      <td>__export__.temp_log_133741_32958703</td>\n",
       "      <td>Room Admin</td>\n",
       "      <td>28-07-2018 07:06</td>\n",
       "      <td>31</td>\n",
       "      <td>In</td>\n",
       "    </tr>\n",
       "  </tbody>\n",
       "</table>\n",
       "<p>97606 rows × 5 columns</p>\n",
       "</div>"
      ],
      "text/plain": [
       "                                        id  room_id/id        noted_date  \\\n",
       "0      __export__.temp_log_196134_bd201015  Room Admin  08-12-2018 09:30   \n",
       "1      __export__.temp_log_196131_7bca51bc  Room Admin  08-12-2018 09:30   \n",
       "2      __export__.temp_log_196127_522915e3  Room Admin  08-12-2018 09:29   \n",
       "3      __export__.temp_log_196128_be0919cf  Room Admin  08-12-2018 09:29   \n",
       "4      __export__.temp_log_196126_d30b72fb  Room Admin  08-12-2018 09:29   \n",
       "...                                    ...         ...               ...   \n",
       "97601   __export__.temp_log_91076_7fbd08ca  Room Admin  28-07-2018 07:07   \n",
       "97602  __export__.temp_log_147733_62c03f31  Room Admin  28-07-2018 07:07   \n",
       "97603  __export__.temp_log_100386_84093a68  Room Admin  28-07-2018 07:06   \n",
       "97604  __export__.temp_log_123297_4d8e690b  Room Admin  28-07-2018 07:06   \n",
       "97605  __export__.temp_log_133741_32958703  Room Admin  28-07-2018 07:06   \n",
       "\n",
       "       temp out/in  \n",
       "0        29     In  \n",
       "1        29     In  \n",
       "2        41    Out  \n",
       "3        41    Out  \n",
       "4        31     In  \n",
       "...     ...    ...  \n",
       "97601    31     In  \n",
       "97602    31     In  \n",
       "97603    31     In  \n",
       "97604    31     In  \n",
       "97605    31     In  \n",
       "\n",
       "[97606 rows x 5 columns]"
      ]
     },
     "execution_count": 8,
     "metadata": {},
     "output_type": "execute_result"
    }
   ],
   "source": [
    "df"
   ]
  },
  {
   "cell_type": "code",
   "execution_count": 9,
   "id": "880ec7fb",
   "metadata": {},
   "outputs": [
    {
     "name": "stdout",
     "output_type": "stream",
     "text": [
      "<class 'pandas.core.frame.DataFrame'>\n",
      "RangeIndex: 97606 entries, 0 to 97605\n",
      "Data columns (total 5 columns):\n",
      " #   Column      Non-Null Count  Dtype \n",
      "---  ------      --------------  ----- \n",
      " 0   id          97606 non-null  object\n",
      " 1   room_id/id  97606 non-null  object\n",
      " 2   noted_date  97606 non-null  object\n",
      " 3   temp        97606 non-null  int64 \n",
      " 4   out/in      97606 non-null  object\n",
      "dtypes: int64(1), object(4)\n",
      "memory usage: 3.7+ MB\n"
     ]
    }
   ],
   "source": [
    "\n",
    "df.info()"
   ]
  },
  {
   "cell_type": "markdown",
   "id": "f0a2a827",
   "metadata": {},
   "source": [
    "-Podemos percatarnos que id es un tipo de dato object, cosa la cual no tiene mucha logica y a su vez temp es un int64, aunque deberia ser un float, mismos errores se repiten en room id, el problema mas destacable es que noted date se representa como un object, cuando deberia ser tomado como data time "
   ]
  },
  {
   "cell_type": "code",
   "execution_count": 10,
   "id": "17b28dd2",
   "metadata": {},
   "outputs": [],
   "source": [
    "df.rename(columns={\n",
    "    'room_id/id': 'room_id',\n",
    "    'out/in': 'location'\n",
    "}, inplace=True)"
   ]
  },
  {
   "cell_type": "code",
   "execution_count": 11,
   "id": "3d8e39db",
   "metadata": {},
   "outputs": [
    {
     "name": "stdout",
     "output_type": "stream",
     "text": [
      "ERROR: No se pudo convertir 'noted_date' a datetime. Revisar formato de fecha. Detalles: time data \"30-11-2018 23:58\" doesn't match format \"%m-%d-%Y %H:%M\", at position 3613. You might want to try:\n",
      "    - passing `format` if your strings have a consistent format;\n",
      "    - passing `format='ISO8601'` if your strings are all ISO8601 but not necessarily in exactly the same format;\n",
      "    - passing `format='mixed'`, and the format will be inferred for each element individually. You might want to use `dayfirst` alongside this.\n"
     ]
    }
   ],
   "source": [
    "try:\n",
    "    df['noted_date'] = pd.to_datetime(df['noted_date'])\n",
    "except Exception as e:\n",
    "    print(f\"ERROR: No se pudo convertir 'noted_date' a datetime. Revisar formato de fecha. Detalles: {e}\")"
   ]
  },
  {
   "cell_type": "code",
   "execution_count": 12,
   "id": "1eb9272e",
   "metadata": {},
   "outputs": [],
   "source": [
    "df['temp'] = df['temp'].astype('float64')"
   ]
  },
  {
   "cell_type": "code",
   "execution_count": 13,
   "id": "dd528e2a",
   "metadata": {},
   "outputs": [],
   "source": [
    "df['id'] = df['id'].astype('category')\n",
    "df['room_id'] = df['room_id'].astype('category')\n",
    "df['location'] = df['location'].astype('category')"
   ]
  },
  {
   "cell_type": "code",
   "execution_count": 14,
   "id": "2492b2ca",
   "metadata": {},
   "outputs": [
    {
     "name": "stdout",
     "output_type": "stream",
     "text": [
      "   -> ¡ATENCIÓN! Se encontraron 1 filas duplicadas. Eliminando...\n"
     ]
    }
   ],
   "source": [
    "num_duplicados = df.duplicated().sum()\n",
    "if num_duplicados > 0:\n",
    "    print(f\"   -> ¡ATENCIÓN! Se encontraron {num_duplicados} filas duplicadas. Eliminando...\")\n",
    "    df.drop_duplicates(inplace=True)\n",
    "else:\n",
    "    print(\"   -> No se encontraron filas duplicadas.\")"
   ]
  },
  {
   "cell_type": "code",
   "execution_count": 15,
   "id": "e079db44",
   "metadata": {},
   "outputs": [],
   "source": [
    "df['location'] = df['location'].str.lower()"
   ]
  },
  {
   "cell_type": "code",
   "execution_count": 16,
   "id": "b956d39f",
   "metadata": {},
   "outputs": [
    {
     "name": "stdout",
     "output_type": "stream",
     "text": [
      "\n",
      "==================================================\n",
      "               LIMPIEZA COMPLETADA \n",
      "==================================================\n",
      "\n",
      "Información del DataFrame después de la limpieza:\n",
      "<class 'pandas.core.frame.DataFrame'>\n",
      "Index: 97605 entries, 0 to 97605\n",
      "Data columns (total 5 columns):\n",
      " #   Column      Non-Null Count  Dtype   \n",
      "---  ------      --------------  -----   \n",
      " 0   id          97605 non-null  category\n",
      " 1   room_id     97605 non-null  category\n",
      " 2   noted_date  97605 non-null  object  \n",
      " 3   temp        97605 non-null  float64 \n",
      " 4   location    97605 non-null  object  \n",
      "dtypes: category(2), float64(1), object(2)\n",
      "memory usage: 6.2+ MB\n",
      "\n",
      "Primeras 5 filas del DataFrame limpio:\n",
      "                                    id     room_id        noted_date  temp  \\\n",
      "0  __export__.temp_log_196134_bd201015  Room Admin  08-12-2018 09:30  29.0   \n",
      "1  __export__.temp_log_196131_7bca51bc  Room Admin  08-12-2018 09:30  29.0   \n",
      "2  __export__.temp_log_196127_522915e3  Room Admin  08-12-2018 09:29  41.0   \n",
      "3  __export__.temp_log_196128_be0919cf  Room Admin  08-12-2018 09:29  41.0   \n",
      "4  __export__.temp_log_196126_d30b72fb  Room Admin  08-12-2018 09:29  31.0   \n",
      "\n",
      "  location  \n",
      "0       in  \n",
      "1       in  \n",
      "2      out  \n",
      "3      out  \n",
      "4       in  \n"
     ]
    }
   ],
   "source": [
    "print(\"\\n\" + \"=\"*50)\n",
    "print(\"               LIMPIEZA COMPLETADA \")\n",
    "print(\"=\"*50)\n",
    "\n",
    "\n",
    "print(\"\\nInformación del DataFrame después de la limpieza:\")\n",
    "df.info()\n",
    "\n",
    "print(\"\\nPrimeras 5 filas del DataFrame limpio:\")\n",
    "print(df.head())"
   ]
  },
  {
   "cell_type": "code",
   "execution_count": 17,
   "id": "a0233798",
   "metadata": {},
   "outputs": [
    {
     "name": "stdout",
     "output_type": "stream",
     "text": [
      "Se encontraron 0 filas duplicadas.\n"
     ]
    }
   ],
   "source": [
    "num_duplicados = df.duplicated().sum()\n",
    "print(f\"Se encontraron {num_duplicados} filas duplicadas.\")\n",
    "\n"
   ]
  },
  {
   "cell_type": "code",
   "execution_count": 18,
   "id": "7ace578e",
   "metadata": {},
   "outputs": [
    {
     "name": "stdout",
     "output_type": "stream",
     "text": [
      "Se encontraron 0 valores que no se pudieron convertir a número y ahora son nulos (NaN).\n"
     ]
    }
   ],
   "source": [
    "num_nulos_temp = df['temp'].isnull().sum()\n",
    "print(f\"Se encontraron {num_nulos_temp} valores que no se pudieron convertir a número y ahora son nulos (NaN).\")"
   ]
  },
  {
   "cell_type": "markdown",
   "id": "19325816",
   "metadata": {},
   "source": [
    "-No he podido conseguir que la fecha cammbie de tipo de dato, toca volver a intentar"
   ]
  },
  {
   "cell_type": "code",
   "execution_count": 19,
   "id": "c5676f13",
   "metadata": {},
   "outputs": [],
   "source": [
    "df['noted_date'] = pd.to_datetime(df['noted_date'], errors='coerce')"
   ]
  },
  {
   "cell_type": "code",
   "execution_count": 20,
   "id": "2e7fc5ea",
   "metadata": {},
   "outputs": [
    {
     "name": "stdout",
     "output_type": "stream",
     "text": [
      "Número de valores que fallaron la conversión y ahora son NaT: 47662\n"
     ]
    }
   ],
   "source": [
    "num_fallos = df['noted_date'].isna().sum()\n",
    "\n",
    "print(f\"Número de valores que fallaron la conversión y ahora son NaT: {num_fallos}\")"
   ]
  },
  {
   "cell_type": "code",
   "execution_count": 21,
   "id": "da5389fe",
   "metadata": {},
   "outputs": [
    {
     "name": "stdout",
     "output_type": "stream",
     "text": [
      "\n",
      "Ejemplos de los datos originales que fallaron:\n",
      "7612   NaT\n",
      "7613   NaT\n",
      "7614   NaT\n",
      "7615   NaT\n",
      "7616   NaT\n"
     ]
    }
   ],
   "source": [
    "if num_fallos > 0:\n",
    "    print(\"\\nEjemplos de los datos originales que fallaron:\")\n",
    "    filas_erroneas = df[df['noted_date'].isna()]\n",
    "    print(filas_erroneas['noted_date'].head().to_string())"
   ]
  },
  {
   "cell_type": "code",
   "execution_count": 22,
   "id": "abc43dff",
   "metadata": {},
   "outputs": [],
   "source": [
    "DATE_FORMAT = '%d-%m-%Y %H:%M'\n",
    "\n",
    "\n",
    "df['noted_date'] = pd.to_datetime(df['noted_date'], format=DATE_FORMAT, errors='coerce')\n",
    "    "
   ]
  },
  {
   "cell_type": "code",
   "execution_count": 23,
   "id": "fed08c97",
   "metadata": {},
   "outputs": [
    {
     "name": "stdout",
     "output_type": "stream",
     "text": [
      "-> ¡ATENCIÓN! 47662 filas fallaron la conversión y se establecieron a NaT.\n",
      "-> Filas con fechas inválidas eliminadas. Nuevo tamaño: 49943\n"
     ]
    }
   ],
   "source": [
    "if num_fallos > 0:\n",
    "    print(f\"-> ¡ATENCIÓN! {num_fallos} filas fallaron la conversión y se establecieron a NaT.\")\n",
    "    # Eliminar las filas con fechas inválidas (NaT)\n",
    "    # subset=['noted_date'] asegura que solo eliminamos filas si esa columna es nula.\n",
    "    df.dropna(subset=['noted_date'], inplace=True)\n",
    "    print(f\"-> Filas con fechas inválidas eliminadas. Nuevo tamaño: {len(df)}\")\n",
    "else:\n",
    "    print(\"-> ¡Excelente! No se encontraron fechas inválidas (NaT).\")"
   ]
  },
  {
   "cell_type": "code",
   "execution_count": 24,
   "id": "1bd9428f",
   "metadata": {},
   "outputs": [
    {
     "name": "stdout",
     "output_type": "stream",
     "text": [
      "\n",
      "--- Rango Temporal del Dataset ---\n",
      "Fecha de inicio (Mínima): 2018-01-11 00:06:00\n",
      "Fecha de fin (Máxima): 2018-12-10 23:55:00\n",
      "-----------------------------------\n"
     ]
    }
   ],
   "source": [
    "fecha_minima = df['noted_date'].min()\n",
    "fecha_maxima = df['noted_date'].max()\n",
    "\n",
    "print(\"\\n--- Rango Temporal del Dataset ---\")\n",
    "print(f\"Fecha de inicio (Mínima): {fecha_minima}\")\n",
    "print(f\"Fecha de fin (Máxima): {fecha_maxima}\")\n",
    "print(\"-----------------------------------\")"
   ]
  },
  {
   "cell_type": "code",
   "execution_count": 25,
   "id": "450a2b04",
   "metadata": {},
   "outputs": [
    {
     "name": "stdout",
     "output_type": "stream",
     "text": [
      "\n",
      "==================================================\n",
      "               LIMPIEZA COMPLETADA \n",
      "==================================================\n",
      "\n",
      "Información del DataFrame después de la limpieza:\n",
      "<class 'pandas.core.frame.DataFrame'>\n",
      "Index: 49943 entries, 0 to 97451\n",
      "Data columns (total 5 columns):\n",
      " #   Column      Non-Null Count  Dtype         \n",
      "---  ------      --------------  -----         \n",
      " 0   id          49943 non-null  category      \n",
      " 1   room_id     49943 non-null  category      \n",
      " 2   noted_date  49943 non-null  datetime64[ns]\n",
      " 3   temp        49943 non-null  float64       \n",
      " 4   location    49943 non-null  object        \n",
      "dtypes: category(2), datetime64[ns](1), float64(1), object(1)\n",
      "memory usage: 4.5+ MB\n",
      "\n",
      "Primeras 5 filas del DataFrame limpio:\n",
      "                                    id     room_id          noted_date  temp  \\\n",
      "0  __export__.temp_log_196134_bd201015  Room Admin 2018-08-12 09:30:00  29.0   \n",
      "1  __export__.temp_log_196131_7bca51bc  Room Admin 2018-08-12 09:30:00  29.0   \n",
      "2  __export__.temp_log_196127_522915e3  Room Admin 2018-08-12 09:29:00  41.0   \n",
      "3  __export__.temp_log_196128_be0919cf  Room Admin 2018-08-12 09:29:00  41.0   \n",
      "4  __export__.temp_log_196126_d30b72fb  Room Admin 2018-08-12 09:29:00  31.0   \n",
      "\n",
      "  location  \n",
      "0       in  \n",
      "1       in  \n",
      "2      out  \n",
      "3      out  \n",
      "4       in  \n"
     ]
    }
   ],
   "source": [
    "print(\"\\n\" + \"=\"*50)\n",
    "print(\"               LIMPIEZA COMPLETADA \")\n",
    "print(\"=\"*50)\n",
    "\n",
    "\n",
    "print(\"\\nInformación del DataFrame después de la limpieza:\")\n",
    "df.info()\n",
    "\n",
    "print(\"\\nPrimeras 5 filas del DataFrame limpio:\")\n",
    "print(df.head())"
   ]
  },
  {
   "cell_type": "markdown",
   "id": "78bda556",
   "metadata": {},
   "source": [
    "-Despues de organizar el tipo de datos de todas las columnas y limpiar los noted date nulos, se han arreglados todos los problemas de la base de datos quedando un total de 49.943 datos "
   ]
  }
 ],
 "metadata": {
  "kernelspec": {
   "display_name": ".venv (3.13.5)",
   "language": "python",
   "name": "python3"
  },
  "language_info": {
   "codemirror_mode": {
    "name": "ipython",
    "version": 3
   },
   "file_extension": ".py",
   "mimetype": "text/x-python",
   "name": "python",
   "nbconvert_exporter": "python",
   "pygments_lexer": "ipython3",
   "version": "3.13.5"
  }
 },
 "nbformat": 4,
 "nbformat_minor": 5
}
